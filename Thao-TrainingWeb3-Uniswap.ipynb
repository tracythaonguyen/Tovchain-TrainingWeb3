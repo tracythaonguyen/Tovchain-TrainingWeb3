{
 "cells": [
  {
   "cell_type": "code",
   "execution_count": 2,
   "id": "f5cea916",
   "metadata": {},
   "outputs": [
    {
     "name": "stdout",
     "output_type": "stream",
     "text": [
      "Successful Connection: True \n"
     ]
    }
   ],
   "source": [
    "from web3 import HTTPProvider\n",
    "from web3 import Web3\n",
    "from web3.middleware import geth_poa_middleware\n",
    "import time\n",
    "import json\n",
    "\n",
    "provider_url = \"https://bsc-dataseed4.binance.org/\" # rpc link\n",
    "web3 = Web3(HTTPProvider(provider_url))\n",
    "web3.middleware_onion.inject(geth_poa_middleware, layer=0)\n",
    "\n",
    "#check connect successfull\n",
    "isConnected = web3.isConnected()\n",
    "print(f\"Successful Connection: {isConnected} \")\n",
    "\n",
    "# Pancakeswap\n",
    "# Contract name: MasterChef v2\n",
    "# Contract address: 0xa5f8C5Dbd5F286960b9d90548680aE5ebFf07652\n",
    "\n",
    "#lấy cấu trúc dữ liệu của abi\n",
    "with open(\"abi/masterchef_abi.json\", \"r\") as f:\n",
    "    abi = json.loads(f.read())\n",
    "#Địa chỉ của valas  \n",
    "address = \"0xa5f8C5Dbd5F286960b9d90548680aE5ebFf07652\"\n",
    "# Kiểm tra xem địa chỉ có đúng không\n",
    "if not web3.isAddress(address):\n",
    "    address = web3.toChecksumAddress(address)\n",
    "#Sử dụng web3 thiết lập đối tượng contract để sử dụng các phương thức\n",
    "contract = web3.eth.contract(abi=abi, address=address)\n"
   ]
  },
  {
   "cell_type": "code",
   "execution_count": null,
   "id": "89200081",
   "metadata": {},
   "outputs": [],
   "source": []
  }
 ],
 "metadata": {
  "kernelspec": {
   "display_name": "venv",
   "language": "python",
   "name": "venv"
  },
  "language_info": {
   "codemirror_mode": {
    "name": "ipython",
    "version": 3
   },
   "file_extension": ".py",
   "mimetype": "text/x-python",
   "name": "python",
   "nbconvert_exporter": "python",
   "pygments_lexer": "ipython3",
   "version": "3.10.6"
  }
 },
 "nbformat": 4,
 "nbformat_minor": 5
}
